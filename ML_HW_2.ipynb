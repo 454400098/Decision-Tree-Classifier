{
 "cells": [
  {
   "cell_type": "code",
   "execution_count": 70,
   "metadata": {},
   "outputs": [],
   "source": [
    "import numpy as np\n",
    "import random as rd\n",
    "import math\n",
    "import pandas as pd\n",
    "eps = np.finfo(float).eps\n",
    "from numpy import log2 as log"
   ]
  },
  {
   "cell_type": "code",
   "execution_count": 71,
   "metadata": {},
   "outputs": [],
   "source": [
    "class Dtrees:\n",
    "    def __init__(self,k,m):\n",
    "        self.k = k    #number of features\n",
    "        self.m = m    #number of data points\n",
    "        self.arrofarrX = []\n",
    "        self.arrY = []\n",
    "        \n",
    "        for i in range(self.m):\n",
    "            new = []\n",
    "            tmpX = self.generateX()\n",
    "            tmpW = self.generateW()\n",
    "            tmpY = self.computeY(tmpX,tmpW)\n",
    "            self.arrofarrX.append(tmpX)\n",
    "            self.arrY.append(tmpY)\n",
    "    \n",
    "    def ran(self,x,y):\n",
    "        if rd.uniform(x,y) > 0.5:\n",
    "            return 1\n",
    "        else:\n",
    "            return 0\n",
    "        \n",
    "    def ran2(self,x,y):\n",
    "        if rd.uniform(x,y) > 0.25:\n",
    "            return 1\n",
    "        else:\n",
    "            return 0\n",
    "        \n",
    "    def generateX(self):\n",
    "        new = []\n",
    "        if self.ran(0,1) == 1:\n",
    "            new.append(1)\n",
    "        else:\n",
    "            new.append(0)\n",
    "        \n",
    "        for x in range (1,self.k):\n",
    "            if self.ran2(0,1) == 1:\n",
    "                new.append(new[x-1])\n",
    "            else:\n",
    "                new.append(1-new[x-1])\n",
    "        return new\n",
    "    \n",
    "    def generateW(self):\n",
    "        new_w = []\n",
    "        for x in range (1,self.k):\n",
    "            de = 0\n",
    "            for y in range(1,x+1):\n",
    "                de = de+ math.pow(0.9,y)\n",
    "            res = math.pow(0.9,x) / de\n",
    "            new_w.append(res)\n",
    "        return new_w\n",
    "    \n",
    "    def computeY(self,arrX,arrW):\n",
    "        res = 0\n",
    "        for x in range (1,self.k):\n",
    "            res+= arrX[x]*arrW[x-1]\n",
    "#         print(\"current result is %d\",res)\n",
    "        if res >= 0.5:\n",
    "            return arrX[0]\n",
    "        else:\n",
    "            return 1 - arrX[0]\n",
    "        "
   ]
  },
  {
   "cell_type": "code",
   "execution_count": 72,
   "metadata": {},
   "outputs": [],
   "source": [
    "dt = Dtrees(5,5)"
   ]
  },
  {
   "cell_type": "code",
   "execution_count": 73,
   "metadata": {},
   "outputs": [
    {
     "data": {
      "text/plain": [
       "[[0, 0, 0, 0, 0],\n",
       " [0, 0, 0, 0, 0],\n",
       " [1, 1, 0, 1, 1],\n",
       " [1, 0, 1, 0, 0],\n",
       " [1, 0, 0, 1, 1]]"
      ]
     },
     "execution_count": 73,
     "metadata": {},
     "output_type": "execute_result"
    }
   ],
   "source": [
    "dt.arrofarrX"
   ]
  },
  {
   "cell_type": "code",
   "execution_count": 74,
   "metadata": {},
   "outputs": [],
   "source": [
    "dataset = {'Taste':['Salty','Spicy','Spicy','Spicy','Spicy','Sweet','Salty','Sweet','Spicy','Salty'],\n",
    "       'Temperature':['Hot','Hot','Hot','Cold','Hot','Cold','Cold','Hot','Cold','Hot'],\n",
    "       'Texture':['Soft','Soft','Hard','Hard','Hard','Soft','Soft','Soft','Soft','Hard'],\n",
    "       'Eat':['No','No','Yes','No','Yes','Yes','No','Yes','Yes','Yes']}"
   ]
  },
  {
   "cell_type": "code",
   "execution_count": 75,
   "metadata": {},
   "outputs": [],
   "source": [
    "\n",
    "df = pd.DataFrame(dataset,columns=['Taste','Temperature','Texture','Eat'])"
   ]
  },
  {
   "cell_type": "code",
   "execution_count": 76,
   "metadata": {},
   "outputs": [],
   "source": [
    "entropy_node = 0  #Initialize Entropy\n",
    "values = df.Eat.unique()  #Unique objects - 'Yes', 'No'\n",
    "for value in values:\n",
    "    fraction = df.Eat.value_counts()[value]/len(df.Eat)  \n",
    "    entropy_node += -fraction*np.log2(fraction)"
   ]
  },
  {
   "cell_type": "code",
   "execution_count": 77,
   "metadata": {},
   "outputs": [
    {
     "data": {
      "text/html": [
       "<div>\n",
       "<style>\n",
       "    .dataframe thead tr:only-child th {\n",
       "        text-align: right;\n",
       "    }\n",
       "\n",
       "    .dataframe thead th {\n",
       "        text-align: left;\n",
       "    }\n",
       "\n",
       "    .dataframe tbody tr th {\n",
       "        vertical-align: top;\n",
       "    }\n",
       "</style>\n",
       "<table border=\"1\" class=\"dataframe\">\n",
       "  <thead>\n",
       "    <tr style=\"text-align: right;\">\n",
       "      <th></th>\n",
       "      <th>Taste</th>\n",
       "      <th>Temperature</th>\n",
       "      <th>Texture</th>\n",
       "      <th>Eat</th>\n",
       "    </tr>\n",
       "  </thead>\n",
       "  <tbody>\n",
       "    <tr>\n",
       "      <th>0</th>\n",
       "      <td>Salty</td>\n",
       "      <td>Hot</td>\n",
       "      <td>Soft</td>\n",
       "      <td>No</td>\n",
       "    </tr>\n",
       "    <tr>\n",
       "      <th>1</th>\n",
       "      <td>Spicy</td>\n",
       "      <td>Hot</td>\n",
       "      <td>Soft</td>\n",
       "      <td>No</td>\n",
       "    </tr>\n",
       "    <tr>\n",
       "      <th>2</th>\n",
       "      <td>Spicy</td>\n",
       "      <td>Hot</td>\n",
       "      <td>Hard</td>\n",
       "      <td>Yes</td>\n",
       "    </tr>\n",
       "    <tr>\n",
       "      <th>3</th>\n",
       "      <td>Spicy</td>\n",
       "      <td>Cold</td>\n",
       "      <td>Hard</td>\n",
       "      <td>No</td>\n",
       "    </tr>\n",
       "    <tr>\n",
       "      <th>4</th>\n",
       "      <td>Spicy</td>\n",
       "      <td>Hot</td>\n",
       "      <td>Hard</td>\n",
       "      <td>Yes</td>\n",
       "    </tr>\n",
       "    <tr>\n",
       "      <th>5</th>\n",
       "      <td>Sweet</td>\n",
       "      <td>Cold</td>\n",
       "      <td>Soft</td>\n",
       "      <td>Yes</td>\n",
       "    </tr>\n",
       "    <tr>\n",
       "      <th>6</th>\n",
       "      <td>Salty</td>\n",
       "      <td>Cold</td>\n",
       "      <td>Soft</td>\n",
       "      <td>No</td>\n",
       "    </tr>\n",
       "    <tr>\n",
       "      <th>7</th>\n",
       "      <td>Sweet</td>\n",
       "      <td>Hot</td>\n",
       "      <td>Soft</td>\n",
       "      <td>Yes</td>\n",
       "    </tr>\n",
       "    <tr>\n",
       "      <th>8</th>\n",
       "      <td>Spicy</td>\n",
       "      <td>Cold</td>\n",
       "      <td>Soft</td>\n",
       "      <td>Yes</td>\n",
       "    </tr>\n",
       "    <tr>\n",
       "      <th>9</th>\n",
       "      <td>Salty</td>\n",
       "      <td>Hot</td>\n",
       "      <td>Hard</td>\n",
       "      <td>Yes</td>\n",
       "    </tr>\n",
       "  </tbody>\n",
       "</table>\n",
       "</div>"
      ],
      "text/plain": [
       "   Taste Temperature Texture  Eat\n",
       "0  Salty         Hot    Soft   No\n",
       "1  Spicy         Hot    Soft   No\n",
       "2  Spicy         Hot    Hard  Yes\n",
       "3  Spicy        Cold    Hard   No\n",
       "4  Spicy         Hot    Hard  Yes\n",
       "5  Sweet        Cold    Soft  Yes\n",
       "6  Salty        Cold    Soft   No\n",
       "7  Sweet         Hot    Soft  Yes\n",
       "8  Spicy        Cold    Soft  Yes\n",
       "9  Salty         Hot    Hard  Yes"
      ]
     },
     "execution_count": 77,
     "metadata": {},
     "output_type": "execute_result"
    }
   ],
   "source": [
    "df"
   ]
  },
  {
   "cell_type": "code",
   "execution_count": 78,
   "metadata": {},
   "outputs": [
    {
     "data": {
      "text/plain": [
       "2"
      ]
     },
     "execution_count": 78,
     "metadata": {},
     "output_type": "execute_result"
    }
   ],
   "source": [
    "len(values)"
   ]
  },
  {
   "cell_type": "code",
   "execution_count": 79,
   "metadata": {},
   "outputs": [
    {
     "data": {
      "text/plain": [
       "Yes    6\n",
       "No     4\n",
       "Name: Eat, dtype: int64"
      ]
     },
     "execution_count": 79,
     "metadata": {},
     "output_type": "execute_result"
    }
   ],
   "source": [
    "df.Eat.value_counts()"
   ]
  },
  {
   "cell_type": "code",
   "execution_count": 80,
   "metadata": {},
   "outputs": [
    {
     "data": {
      "text/plain": [
       "6"
      ]
     },
     "execution_count": 80,
     "metadata": {},
     "output_type": "execute_result"
    }
   ],
   "source": [
    "df.Eat.value_counts()[0]"
   ]
  },
  {
   "cell_type": "code",
   "execution_count": 81,
   "metadata": {},
   "outputs": [
    {
     "data": {
      "text/plain": [
       "array(['No', 'Yes'], dtype=object)"
      ]
     },
     "execution_count": 81,
     "metadata": {},
     "output_type": "execute_result"
    }
   ],
   "source": [
    "df.Eat.unique()"
   ]
  },
  {
   "cell_type": "code",
   "execution_count": 82,
   "metadata": {},
   "outputs": [],
   "source": [
    "attribute = 'Taste'\n",
    "target_variables = df.Eat.unique()  #This gives all 'Yes' and 'No'\n",
    "variables = df[attribute].unique()    #This gives different features in that attribute (like 'Sweet')\n",
    "entropy_attribute = 0\n",
    "for variable in variables:\n",
    "    entropy_each_feature = 0\n",
    "    for target_variable in target_variables:\n",
    "        num = len(df[attribute][df[attribute]==variable][df.Eat ==target_variable]) #numerator\n",
    "        den = len(df[attribute][df[attribute]==variable])  #denominator\n",
    "        fraction = num/(den+eps)  #pi\n",
    "        entropy_each_feature += -fraction*log(fraction+eps) #This calculates entropy for one feature like 'Sweet'\n",
    "    fraction2 = den/len(df)\n",
    "    \n",
    "    \n",
    "    entropy_attribute += -fraction2*entropy_each_feature   #Sums up all the entropy ETaste"
   ]
  },
  {
   "cell_type": "markdown",
   "metadata": {},
   "source": [
    "# START BUILDING "
   ]
  }
 ],
 "metadata": {
  "kernelspec": {
   "display_name": "Python 3",
   "language": "python",
   "name": "python3"
  },
  "language_info": {
   "codemirror_mode": {
    "name": "ipython",
    "version": 3
   },
   "file_extension": ".py",
   "mimetype": "text/x-python",
   "name": "python",
   "nbconvert_exporter": "python",
   "pygments_lexer": "ipython3",
   "version": "3.6.5"
  }
 },
 "nbformat": 4,
 "nbformat_minor": 2
}
